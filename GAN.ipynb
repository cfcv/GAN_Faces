{
 "cells": [
  {
   "cell_type": "markdown",
   "metadata": {},
   "source": [
    "# Face Generation with GANs\n",
    "\n",
    "* [Step 1](#step1): Reading the CelebA dataset\n",
    "* [Step 2](#step2): Building inputs to the networks\n",
    "* [Step 3](#step3): Building the Generator Network\n",
    "* [Step 4](#step4): Building the Discriminator Network\n",
    "* [Step 5](#step5): Putting all together\n",
    "* [Step 6](#step6): Training\n",
    "* [Step 7](#step7): Viewing Results"
   ]
  },
  {
   "cell_type": "markdown",
   "metadata": {},
   "source": [
    "<a id='step1'></a>\n",
    "## Step 1: Reading the CelebA dataset"
   ]
  },
  {
   "cell_type": "code",
   "execution_count": null,
   "metadata": {},
   "outputs": [],
   "source": []
  }
 ],
 "metadata": {
  "kernelspec": {
   "display_name": "Python 3",
   "language": "python",
   "name": "python3"
  },
  "language_info": {
   "codemirror_mode": {
    "name": "ipython",
    "version": 3
   },
   "file_extension": ".py",
   "mimetype": "text/x-python",
   "name": "python",
   "nbconvert_exporter": "python",
   "pygments_lexer": "ipython3",
   "version": "3.5.2"
  }
 },
 "nbformat": 4,
 "nbformat_minor": 2
}
